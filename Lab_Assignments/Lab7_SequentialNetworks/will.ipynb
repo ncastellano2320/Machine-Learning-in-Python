{
 "cells": [
  {
   "cell_type": "markdown",
   "metadata": {},
   "source": [
    "# **Lab 7: Sequential Networks**\n",
    "### Authors: Will Lahners, Edward Powers, and Nino Castellano\n",
    "________________________________________________________________\n",
    "\n",
    "## **Describing the Data**"
   ]
  }
 ],
 "metadata": {
  "language_info": {
   "name": "python"
  }
 },
 "nbformat": 4,
 "nbformat_minor": 2
}
