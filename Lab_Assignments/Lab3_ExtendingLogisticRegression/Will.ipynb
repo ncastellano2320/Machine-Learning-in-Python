{
 "cells": [
  {
   "cell_type": "markdown",
   "metadata": {},
   "source": [
    "# Lab 3: Extending Logistic Regression\n",
    "\n",
    "This task would involve predicting the education level of credit card customers based on other features in the dataset. This could be relevant for customer segmentation and targeted marketing strategies. The results could be of interest to marketing teams or customer relationship management departments within financial institutions. The model could help tailor marketing campaigns or product offerings based on customers' education levels. The model might be deployed to assist in customer segmentation for targeted marketing efforts.\n",
    "\n",
    "Target:\n",
    "\n",
    "This model will aim to learn patterns in the dataset to predict one of multiple education levels for each customer and whether they are likely to churn or not. Overall, this model will provide insights into customers' education levels and churn behavior, enabling targeted marketing efforts, customer retention strategies, and better decision-making for the credit card portfolio."
   ]
  },
  {
   "cell_type": "code",
   "execution_count": 29,
   "metadata": {},
   "outputs": [
    {
     "name": "stdout",
     "output_type": "stream",
     "text": [
      "\n",
      "Counts of each Education_Level:\n",
      "Education_Level\n",
      "Graduate         3128\n",
      "High School      2013\n",
      "Unknown          1519\n",
      "Uneducated       1487\n",
      "College          1013\n",
      "Post-Graduate     516\n",
      "Doctorate         451\n",
      "Name: count, dtype: int64\n"
     ]
    }
   ],
   "source": [
    "import pandas as pd\n",
    "\n",
    "# load the dataset\n",
    "file_path = 'data/BankChurners.csv'\n",
    "df = pd.read_csv(file_path)\n",
    "\n",
    "# display the counts of each card category\n",
    "card_category_counts = df['Education_Level'].value_counts()\n",
    "print(\"\\nCounts of each Education_Level:\")\n",
    "print(card_category_counts)\n"
   ]
  },
  {
   "cell_type": "code",
   "execution_count": 30,
   "metadata": {},
   "outputs": [
    {
     "name": "stdout",
     "output_type": "stream",
     "text": [
      "Missing data per column:\n",
      "CLIENTNUM                                                                                                                             0\n",
      "Attrition_Flag                                                                                                                        0\n",
      "Customer_Age                                                                                                                          0\n",
      "Gender                                                                                                                                0\n",
      "Dependent_count                                                                                                                       0\n",
      "Education_Level                                                                                                                       0\n",
      "Marital_Status                                                                                                                        0\n",
      "Income_Category                                                                                                                       0\n",
      "Card_Category                                                                                                                         0\n",
      "Months_on_book                                                                                                                        0\n",
      "Total_Relationship_Count                                                                                                              0\n",
      "Months_Inactive_12_mon                                                                                                                0\n",
      "Contacts_Count_12_mon                                                                                                                 0\n",
      "Credit_Limit                                                                                                                          0\n",
      "Total_Revolving_Bal                                                                                                                   0\n",
      "Avg_Open_To_Buy                                                                                                                       0\n",
      "Total_Amt_Chng_Q4_Q1                                                                                                                  0\n",
      "Total_Trans_Amt                                                                                                                       0\n",
      "Total_Trans_Ct                                                                                                                        0\n",
      "Total_Ct_Chng_Q4_Q1                                                                                                                   0\n",
      "Avg_Utilization_Ratio                                                                                                                 0\n",
      "Naive_Bayes_Classifier_Attrition_Flag_Card_Category_Contacts_Count_12_mon_Dependent_count_Education_Level_Months_Inactive_12_mon_1    0\n",
      "Naive_Bayes_Classifier_Attrition_Flag_Card_Category_Contacts_Count_12_mon_Dependent_count_Education_Level_Months_Inactive_12_mon_2    0\n",
      "dtype: int64\n"
     ]
    }
   ],
   "source": [
    "# check for missing data in the dataframe\n",
    "missing_data = df.isnull().sum()\n",
    "\n",
    "# print the number of missing values for each column\n",
    "print(\"Missing data per column:\")\n",
    "print(missing_data)"
   ]
  },
  {
   "cell_type": "markdown",
   "metadata": {},
   "source": [
    "no missing data!\n"
   ]
  },
  {
   "cell_type": "markdown",
   "metadata": {},
   "source": [
    "We will pick the variable education level, as it has three or more classes to predict. "
   ]
  },
  {
   "cell_type": "code",
   "execution_count": 31,
   "metadata": {},
   "outputs": [
    {
     "name": "stdout",
     "output_type": "stream",
     "text": [
      "Final dataset description:\n",
      "       Attrition_Flag  Customer_Age  Dependent_count  Education_Level  \\\n",
      "count    10127.000000  10127.000000     10127.000000     10127.000000   \n",
      "mean         0.160660     46.325960         2.346203         2.861361   \n",
      "std          0.367235      8.016814         1.298908         1.770156   \n",
      "min          0.000000     26.000000         0.000000         1.000000   \n",
      "25%          0.000000     41.000000         1.000000         1.000000   \n",
      "50%          0.000000     46.000000         2.000000         2.000000   \n",
      "75%          0.000000     52.000000         3.000000         4.000000   \n",
      "max          1.000000     73.000000         5.000000         7.000000   \n",
      "\n",
      "       Months_on_book  Total_Relationship_Count  Months_Inactive_12_mon  \\\n",
      "count    10127.000000              10127.000000            10127.000000   \n",
      "mean        35.928409                  3.812580                2.341167   \n",
      "std          7.986416                  1.554408                1.010622   \n",
      "min         13.000000                  1.000000                0.000000   \n",
      "25%         31.000000                  3.000000                2.000000   \n",
      "50%         36.000000                  4.000000                2.000000   \n",
      "75%         40.000000                  5.000000                3.000000   \n",
      "max         56.000000                  6.000000                6.000000   \n",
      "\n",
      "       Contacts_Count_12_mon  Credit_Limit  Total_Revolving_Bal  \\\n",
      "count           10127.000000  10127.000000         10127.000000   \n",
      "mean                2.455317   8631.953698          1162.814061   \n",
      "std                 1.106225   9088.776650           814.987335   \n",
      "min                 0.000000   1438.300000             0.000000   \n",
      "25%                 2.000000   2555.000000           359.000000   \n",
      "50%                 2.000000   4549.000000          1276.000000   \n",
      "75%                 3.000000  11067.500000          1784.000000   \n",
      "max                 6.000000  34516.000000          2517.000000   \n",
      "\n",
      "       Avg_Open_To_Buy  Total_Amt_Chng_Q4_Q1  Total_Trans_Amt  Total_Trans_Ct  \\\n",
      "count     10127.000000          10127.000000     10127.000000    10127.000000   \n",
      "mean       7469.139637              0.759941      4404.086304       64.858695   \n",
      "std        9090.685324              0.219207      3397.129254       23.472570   \n",
      "min           3.000000              0.000000       510.000000       10.000000   \n",
      "25%        1324.500000              0.631000      2155.500000       45.000000   \n",
      "50%        3474.000000              0.736000      3899.000000       67.000000   \n",
      "75%        9859.000000              0.859000      4741.000000       81.000000   \n",
      "max       34516.000000              3.397000     18484.000000      139.000000   \n",
      "\n",
      "       Total_Ct_Chng_Q4_Q1  Avg_Utilization_Ratio  \n",
      "count         10127.000000           10127.000000  \n",
      "mean              0.712222               0.274894  \n",
      "std               0.238086               0.275691  \n",
      "min               0.000000               0.000000  \n",
      "25%               0.582000               0.023000  \n",
      "50%               0.702000               0.176000  \n",
      "75%               0.818000               0.503000  \n",
      "max               3.714000               0.999000  \n"
     ]
    }
   ],
   "source": [
    "# define a dictionary to map each education level to a numerical label\n",
    "education_level_map = {\n",
    "    'Graduate': 1,\n",
    "    'High School': 2,\n",
    "    'Unknown': 3,\n",
    "    'Uneducated': 4,\n",
    "    'College': 5,\n",
    "    'Post-Graduate': 6,\n",
    "    'Doctorate': 7\n",
    "}\n",
    "\n",
    "# Apply it to the Education_Level column\n",
    "df['Education_Level'] = df['Education_Level'].map(education_level_map)\n",
    "\n",
    "# Convert Attrition_Flag column to binary labels\n",
    "df['Attrition_Flag'] = df['Attrition_Flag'].map({'Existing Customer': 0, 'Attrited Customer': 1})\n",
    "\n",
    "# drop unnecessary variables\n",
    "df.drop(['CLIENTNUM', 'Naive_Bayes_Classifier_Attrition_Flag_Card_Category_Contacts_Count_12_mon_Dependent_count_Education_Level_Months_Inactive_12_mon_2', 'Naive_Bayes_Classifier_Attrition_Flag_Card_Category_Contacts_Count_12_mon_Dependent_count_Education_Level_Months_Inactive_12_mon_1'], axis=1, inplace=True)\n",
    "\n",
    "print(\"Final dataset description:\")\n",
    "print(df.describe())\n"
   ]
  },
  {
   "cell_type": "markdown",
   "metadata": {},
   "source": [
    "Eddie : explain the numbers IN DETAIL ( Provide a breakdown of the variables after preprocessing (such as the mean, std, etc. for all variables, including numeric and categorical )\n",
    "This is how education level is assigned :\n",
    "\n",
    "    'Graduate': 1,\n",
    "    'High School': 2,\n",
    "    'Unknown': 3,\n",
    "    'Uneducated': 4,\n",
    "    'College': 5,\n",
    "    'Post-Graduate': 6,\n",
    "    'Doctorate': 7"
   ]
  },
  {
   "cell_type": "code",
   "execution_count": 34,
   "metadata": {},
   "outputs": [
    {
     "name": "stdout",
     "output_type": "stream",
     "text": [
      "\n",
      "First few rows of the preprocessed dataframe:\n",
      "   Attrition_Flag  Customer_Age Gender  Dependent_count  Education_Level  \\\n",
      "0               0            45      M                3                2   \n",
      "1               0            49      F                5                1   \n",
      "2               0            51      M                3                1   \n",
      "3               0            40      F                4                2   \n",
      "4               0            40      M                3                4   \n",
      "\n",
      "  Marital_Status Income_Category Card_Category  Months_on_book  \\\n",
      "0        Married     $60K - $80K          Blue              39   \n",
      "1         Single  Less than $40K          Blue              44   \n",
      "2        Married    $80K - $120K          Blue              36   \n",
      "3        Unknown  Less than $40K          Blue              34   \n",
      "4        Married     $60K - $80K          Blue              21   \n",
      "\n",
      "   Total_Relationship_Count  Months_Inactive_12_mon  Contacts_Count_12_mon  \\\n",
      "0                         5                       1                      3   \n",
      "1                         6                       1                      2   \n",
      "2                         4                       1                      0   \n",
      "3                         3                       4                      1   \n",
      "4                         5                       1                      0   \n",
      "\n",
      "   Credit_Limit  Total_Revolving_Bal  Avg_Open_To_Buy  Total_Amt_Chng_Q4_Q1  \\\n",
      "0       12691.0                  777          11914.0                 1.335   \n",
      "1        8256.0                  864           7392.0                 1.541   \n",
      "2        3418.0                    0           3418.0                 2.594   \n",
      "3        3313.0                 2517            796.0                 1.405   \n",
      "4        4716.0                    0           4716.0                 2.175   \n",
      "\n",
      "   Total_Trans_Amt  Total_Trans_Ct  Total_Ct_Chng_Q4_Q1  Avg_Utilization_Ratio  \n",
      "0             1144              42                1.625                  0.061  \n",
      "1             1291              33                3.714                  0.105  \n",
      "2             1887              20                2.333                  0.000  \n",
      "3             1171              20                2.333                  0.760  \n",
      "4              816              28                2.500                  0.000  \n"
     ]
    }
   ],
   "source": [
    "# display the first few rows of the preprocessed dataframe\n",
    "print(\"\\nFirst few rows of the preprocessed dataframe:\")\n",
    "print(df.head())"
   ]
  },
  {
   "cell_type": "code",
   "execution_count": 39,
   "metadata": {},
   "outputs": [
    {
     "name": "stdout",
     "output_type": "stream",
     "text": [
      "Training set shape (Education Level): (8101, 18) (8101,)\n",
      "Testing set shape (Education Level): (2026, 18) (2026,)\n",
      "Training set shape (Attrition Flag): (8101, 18) (8101,)\n",
      "Testing set shape (Attrition Flag): (2026, 18) (2026,)\n"
     ]
    }
   ],
   "source": [
    "from sklearn.model_selection import train_test_split\n",
    "\n",
    "X = df.drop(['Education_Level', 'Attrition_Flag'], axis=1) \n",
    "y_education = df['Education_Level']\n",
    "y_attrition = df['Attrition_Flag']\n",
    "\n",
    "# split the data into training and testing sets for education level\n",
    "X_train_edu, X_test_edu, y_train_edu, y_test_edu = train_test_split(X, y_education, test_size=0.2)\n",
    "\n",
    "# split the data into training and testing sets for attrition flag\n",
    "X_train_attrition, X_test_attrition, y_train_attrition, y_test_attrition = train_test_split(X, y_attrition, test_size=0.2)\n",
    "\n",
    "# print the shapes of the training and testing sets for education level and attrition flag\n",
    "print(\"Training set shape (Education Level):\", X_train_edu.shape, y_train_edu.shape)\n",
    "print(\"Testing set shape (Education Level):\", X_test_edu.shape, y_test_edu.shape)\n",
    "print(\"Training set shape (Attrition Flag):\", X_train_attrition.shape, y_train_attrition.shape)\n",
    "print(\"Testing set shape (Attrition Flag):\", X_test_attrition.shape, y_test_attrition.shape)\n"
   ]
  },
  {
   "cell_type": "markdown",
   "metadata": {},
   "source": [
    "Split into testing and training\n",
    "\n",
    "Splitting the dataset into training and testing sets using an 80/20 split is a common practice in machine learning and is appropriate for several reasons:\n",
    "\n",
    "Sufficient Training Data: With 80% of the dataset allocated for training, the model will have ample data to learn the underlying patterns and relationships between features and target variables. This large training set can help the model generalize well to unseen data and make accurate predictions.\n",
    "\n",
    "Adequate Testing Data: Allocating 20% of the dataset for testing ensures that there is a significant amount of data reserved for evaluating the model's performance. This sizable test set helps provide reliable estimates of the model's performance metrics, such as accuracy, precision, recall, and F1-score.\n",
    "\n",
    "Computationally Feasible: Training models on larger datasets can be computationally intensive, especially for complex models. An 80/20 split allows for efficient use of computational resources while still providing sufficient data for training and testing.\n",
    "\n",
    "Standard Practice: The 80/20 split ratio is widely used in machine learning literature and is considered a standard practice. It strikes a balance between having enough data for training and testing without overly sacrificing the size of either set.\n",
    "\n",
    "Reliable Performance Evaluation: Using a larger testing set improves the reliability of performance evaluation metrics. A larger test set reduces variability in performance metrics and provides more robust estimates of model performance."
   ]
  },
  {
   "cell_type": "markdown",
   "metadata": {},
   "source": []
  }
 ],
 "metadata": {
  "kernelspec": {
   "display_name": "base",
   "language": "python",
   "name": "python3"
  },
  "language_info": {
   "codemirror_mode": {
    "name": "ipython",
    "version": 3
   },
   "file_extension": ".py",
   "mimetype": "text/x-python",
   "name": "python",
   "nbconvert_exporter": "python",
   "pygments_lexer": "ipython3",
   "version": "3.10.9"
  }
 },
 "nbformat": 4,
 "nbformat_minor": 2
}
